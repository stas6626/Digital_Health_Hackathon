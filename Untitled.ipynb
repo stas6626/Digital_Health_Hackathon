{
 "cells": [
  {
   "cell_type": "code",
   "execution_count": 4,
   "metadata": {
    "collapsed": true,
    "scrolled": true
   },
   "outputs": [],
   "source": [
    "import pandas as pd\n",
    "import numpy as np\n",
    "import scipy as sc\n",
    "import matplotlib.pyplot as plt\n",
    "%matplotlib inline\n",
    "from gensim.models import Word2Vec\n",
    "from sklearn.preprocessing import LabelEncoder,StandardScaler, OneHotEncoder\n",
    "from sklearn.feature_extraction.text import TfidfTransformer, TfidfVectorizer\n",
    "from sklearn.linear_model import SGDClassifier, LogisticRegression\n",
    "from sklearn.model_selection import cross_val_predict,cross_val_score,StratifiedKFold\n",
    "from sklearn.svm import SVC,LinearSVC\n",
    "from sklearn.ensemble import RandomForestClassifier,BaggingClassifier\n",
    "from xgboost.sklearn import XGBClassifier\n",
    "from sklearn.tree import DecisionTreeClassifier\n",
    "from sklearn.metrics import accuracy_score \n",
    "from sklearn.externals import joblib\n",
    "from sklearn.neighbors import KNeighborsClassifier\n",
    "from pymystem3 import Mystem\n",
    "from nltk.tokenize import word_tokenize\n",
    "import nltk\n",
    "import pymystem3\n",
    "import xgboost as xgb\n",
    "from xgboost.sklearn import XGBClassifier\n",
    "pd.options.display.max_rows=500\n",
    "pd.options.display.max_colwidth=200"
   ]
  },
  {
   "cell_type": "code",
   "execution_count": 5,
   "metadata": {
    "collapsed": true
   },
   "outputs": [],
   "source": [
    "train = pd.read_csv(\"./hack/train_data.csv\",sep=\";\")#init\n",
    "test = pd.read_csv(\"./hack/test_data.csv\",sep=\";\")\n",
    "sampl = pd.read_csv(\"./hack/sample_submission.csv\",sep=\";\")\n",
    "\n",
    "target = train.Код_диагноза\n",
    "complain = train.Жалобы.str.lower()\n",
    "service = train.Услуга\n",
    "\n",
    "rain = train.drop([\"Код_диагноза\",\"Диагноз\",\"Id_Записи\"],axis=1)\n",
    "test = test.drop([\"Id_Записи\"],axis=1)\n",
    "\n",
    "letter = target.apply(lambda x: str(x)[:1])\n",
    "df = pd.concat([rain,test])\n",
    "df[\"id_dicimal\"] = df.Id_Пациента // 5000\n",
    "df[\"Клиника_пол\"] = df.Пол.astype(\"str\") + df.Клиника.astype(\"str\")\n",
    "df = pd.concat((df,pd.get_dummies(df.Источник_рекламы),pd.get_dummies(df.Клиника_пол),pd.get_dummies(df[\"id_dicimal\"])),axis=1)\n",
    "df.drop([\"Клиника_пол\",\"id_dicimal\"],axis=1,inplace=True)\n",
    "df[\"907\"]=(df[\"Возраст\"]==907).apply(lambda x: 1 if x==True else 0)\n",
    "df[\"is_other\"] = (df[\"Источник_рекламы\"]==\"Другое\").apply(lambda x: 1 if x==True else 0)\n",
    "df[\"Возраст\"].apply(lambda x: x/100 if x>100 else x)\n",
    "df[\"length\"] = df.Жалобы.str.len()\n",
    "df[\"length1\"] = df.Услуга.str.len()\n",
    "df[\"devided_age\"] = df.Возраст/10 \n",
    "rain = df.iloc[:-30000,:]\n",
    "test = df.iloc[-30000:,:]\n",
    "\n",
    "\n",
    "lc = LabelEncoder()\n",
    "targetcoded = lc.fit_transform(target) #targed coded for xgboost"
   ]
  },
  {
   "cell_type": "code",
   "execution_count": 3,
   "metadata": {},
   "outputs": [
    {
     "data": {
      "text/html": [
       "<div>\n",
       "<style>\n",
       "    .dataframe thead tr:only-child th {\n",
       "        text-align: right;\n",
       "    }\n",
       "\n",
       "    .dataframe thead th {\n",
       "        text-align: left;\n",
       "    }\n",
       "\n",
       "    .dataframe tbody tr th {\n",
       "        vertical-align: top;\n",
       "    }\n",
       "</style>\n",
       "<table border=\"1\" class=\"dataframe\">\n",
       "  <thead>\n",
       "    <tr style=\"text-align: right;\">\n",
       "      <th></th>\n",
       "      <th>Id_Пациента</th>\n",
       "      <th>Возраст</th>\n",
       "      <th>Жалобы</th>\n",
       "      <th>Источник_рекламы</th>\n",
       "      <th>Клиника</th>\n",
       "      <th>Пол</th>\n",
       "      <th>Услуга</th>\n",
       "      <th>клиника квртет</th>\n",
       "      <th>-</th>\n",
       "      <th>147</th>\n",
       "      <th>...</th>\n",
       "      <th>124</th>\n",
       "      <th>125</th>\n",
       "      <th>126</th>\n",
       "      <th>127</th>\n",
       "      <th>128</th>\n",
       "      <th>907</th>\n",
       "      <th>is_other</th>\n",
       "      <th>length</th>\n",
       "      <th>length1</th>\n",
       "      <th>devided_age</th>\n",
       "    </tr>\n",
       "  </thead>\n",
       "  <tbody>\n",
       "    <tr>\n",
       "      <th>0</th>\n",
       "      <td>115819</td>\n",
       "      <td>54</td>\n",
       "      <td>на повышение ад утром до 140/90 мм.рт.ст., периодич. головокружение</td>\n",
       "      <td>Другое</td>\n",
       "      <td>5</td>\n",
       "      <td>2</td>\n",
       "      <td>Прием врача-кардиолога  повторный, амбулаторный</td>\n",
       "      <td>0</td>\n",
       "      <td>0</td>\n",
       "      <td>0</td>\n",
       "      <td>...</td>\n",
       "      <td>0</td>\n",
       "      <td>0</td>\n",
       "      <td>0</td>\n",
       "      <td>0</td>\n",
       "      <td>0</td>\n",
       "      <td>0</td>\n",
       "      <td>1</td>\n",
       "      <td>67</td>\n",
       "      <td>47</td>\n",
       "      <td>5.4</td>\n",
       "    </tr>\n",
       "    <tr>\n",
       "      <th>1</th>\n",
       "      <td>399973</td>\n",
       "      <td>32</td>\n",
       "      <td>На наличие опухоли в левой молочной железе</td>\n",
       "      <td>Другое</td>\n",
       "      <td>3</td>\n",
       "      <td>2</td>\n",
       "      <td>Прием врача-онколога (маммолога), повторный, амбулаторный</td>\n",
       "      <td>0</td>\n",
       "      <td>0</td>\n",
       "      <td>0</td>\n",
       "      <td>...</td>\n",
       "      <td>0</td>\n",
       "      <td>0</td>\n",
       "      <td>0</td>\n",
       "      <td>0</td>\n",
       "      <td>0</td>\n",
       "      <td>0</td>\n",
       "      <td>1</td>\n",
       "      <td>42</td>\n",
       "      <td>57</td>\n",
       "      <td>3.2</td>\n",
       "    </tr>\n",
       "    <tr>\n",
       "      <th>2</th>\n",
       "      <td>427563</td>\n",
       "      <td>72</td>\n",
       "      <td>Активных жалоб нет.</td>\n",
       "      <td>Интернет</td>\n",
       "      <td>6</td>\n",
       "      <td>2</td>\n",
       "      <td>Прием первичный врача-пульмонолога</td>\n",
       "      <td>0</td>\n",
       "      <td>0</td>\n",
       "      <td>0</td>\n",
       "      <td>...</td>\n",
       "      <td>0</td>\n",
       "      <td>0</td>\n",
       "      <td>0</td>\n",
       "      <td>0</td>\n",
       "      <td>0</td>\n",
       "      <td>0</td>\n",
       "      <td>0</td>\n",
       "      <td>19</td>\n",
       "      <td>34</td>\n",
       "      <td>7.2</td>\n",
       "    </tr>\n",
       "    <tr>\n",
       "      <th>3</th>\n",
       "      <td>257197</td>\n",
       "      <td>55</td>\n",
       "      <td>на сохраняющиеся боли в спине и пояснице, скованность в ней.</td>\n",
       "      <td>Другое</td>\n",
       "      <td>3</td>\n",
       "      <td>1</td>\n",
       "      <td>Прием врача-невролога  повторный, амбулаторный</td>\n",
       "      <td>0</td>\n",
       "      <td>0</td>\n",
       "      <td>0</td>\n",
       "      <td>...</td>\n",
       "      <td>0</td>\n",
       "      <td>0</td>\n",
       "      <td>0</td>\n",
       "      <td>0</td>\n",
       "      <td>0</td>\n",
       "      <td>0</td>\n",
       "      <td>1</td>\n",
       "      <td>60</td>\n",
       "      <td>46</td>\n",
       "      <td>5.5</td>\n",
       "    </tr>\n",
       "    <tr>\n",
       "      <th>4</th>\n",
       "      <td>281066</td>\n",
       "      <td>28</td>\n",
       "      <td>на дискомфорт в горле, слабое першение, слабость</td>\n",
       "      <td>Другое</td>\n",
       "      <td>3</td>\n",
       "      <td>2</td>\n",
       "      <td>Прием врача-оториноларинголога повторный, амбулаторный</td>\n",
       "      <td>0</td>\n",
       "      <td>0</td>\n",
       "      <td>0</td>\n",
       "      <td>...</td>\n",
       "      <td>0</td>\n",
       "      <td>0</td>\n",
       "      <td>0</td>\n",
       "      <td>0</td>\n",
       "      <td>0</td>\n",
       "      <td>0</td>\n",
       "      <td>1</td>\n",
       "      <td>48</td>\n",
       "      <td>54</td>\n",
       "      <td>2.8</td>\n",
       "    </tr>\n",
       "  </tbody>\n",
       "</table>\n",
       "<p>5 rows × 348 columns</p>\n",
       "</div>"
      ],
      "text/plain": [
       "   Id_Пациента  Возраст  \\\n",
       "0       115819       54   \n",
       "1       399973       32   \n",
       "2       427563       72   \n",
       "3       257197       55   \n",
       "4       281066       28   \n",
       "\n",
       "                                                                Жалобы  \\\n",
       "0  на повышение ад утром до 140/90 мм.рт.ст., периодич. головокружение   \n",
       "1                           На наличие опухоли в левой молочной железе   \n",
       "2                                                  Активных жалоб нет.   \n",
       "3         на сохраняющиеся боли в спине и пояснице, скованность в ней.   \n",
       "4                     на дискомфорт в горле, слабое першение, слабость   \n",
       "\n",
       "  Источник_рекламы  Клиника  Пол  \\\n",
       "0           Другое        5    2   \n",
       "1           Другое        3    2   \n",
       "2         Интернет        6    2   \n",
       "3           Другое        3    1   \n",
       "4           Другое        3    2   \n",
       "\n",
       "                                                      Услуга   клиника квртет  \\\n",
       "0            Прием врача-кардиолога  повторный, амбулаторный                0   \n",
       "1  Прием врача-онколога (маммолога), повторный, амбулаторный                0   \n",
       "2                         Прием первичный врача-пульмонолога                0   \n",
       "3             Прием врача-невролога  повторный, амбулаторный                0   \n",
       "4     Прием врача-оториноларинголога повторный, амбулаторный                0   \n",
       "\n",
       "   -  147     ...       124  125  126  127  128  907  is_other  length  \\\n",
       "0  0    0     ...         0    0    0    0    0    0         1      67   \n",
       "1  0    0     ...         0    0    0    0    0    0         1      42   \n",
       "2  0    0     ...         0    0    0    0    0    0         0      19   \n",
       "3  0    0     ...         0    0    0    0    0    0         1      60   \n",
       "4  0    0     ...         0    0    0    0    0    0         1      48   \n",
       "\n",
       "   length1  devided_age  \n",
       "0       47          5.4  \n",
       "1       57          3.2  \n",
       "2       34          7.2  \n",
       "3       46          5.5  \n",
       "4       54          2.8  \n",
       "\n",
       "[5 rows x 348 columns]"
      ]
     },
     "execution_count": 3,
     "metadata": {},
     "output_type": "execute_result"
    }
   ],
   "source": [
    "df.head()"
   ]
  },
  {
   "cell_type": "code",
   "execution_count": 6,
   "metadata": {
    "collapsed": true
   },
   "outputs": [],
   "source": [
    "def merge_tfidf():\n",
    "    \n",
    "    stop_words= nltk.corpus.stopwords.words('russian')\n",
    "    tf = TfidfVectorizer(min_df=5, stop_words=stop_words)\n",
    "    tfidfed_train = tf.fit_transform(df[:-30000][\"Жалобы\"], y=target)\n",
    "    tfidfed_test = tf.transform(df[-30000:][\"Жалобы\"])\n",
    "    \n",
    "    tf = TfidfVectorizer(stop_words=stop_words)\n",
    "    tfidfed_train_us = tf.fit_transform(df[:-30000][\"Услуга\"], y=target)\n",
    "    tfidfed_test_us = tf.transform(df[-30000:][\"Услуга\"])\n",
    "    \n",
    "    tf = TfidfVectorizer(stop_words=stop_words)\n",
    "    tfidfed_train_adv = tf.fit_transform(df[:-30000][\"Источник_рекламы\"], y=target)\n",
    "    tfidfed_test_adv = tf.transform(df[-30000:][\"Источник_рекламы\"])\n",
    "    \n",
    "    #hot = OneHotEncoder()\n",
    "    #hot_train = hot.fit_transform(np.array(df[:-30000][\"Клиника\"]).reshape(-1,1))\n",
    "    #hot_test = hot.transform(np.array(test[\"Клиника\"]).reshape(-1,1))\n",
    "    \n",
    "    nm = StandardScaler()\n",
    "    \n",
    "    return sc.sparse.hstack((tfidfed_train, sc.sparse.coo_matrix(nm.fit_transform(rain.drop([\"Источник_рекламы\",\"Жалобы\",\"Услуга\"], axis=1))),tfidfed_train_us)),sc.sparse.hstack((tfidfed_test, sc.sparse.coo_matrix(nm.transform(test.drop([\"Источник_рекламы\",\"Жалобы\",\"Услуга\"], axis=1))),tfidfed_test_us))"
   ]
  },
  {
   "cell_type": "code",
   "execution_count": 8,
   "metadata": {
    "collapsed": true
   },
   "outputs": [],
   "source": [
    "def merge_tfidf_letter():\n",
    "    \n",
    "    sm = joblib.load(\"logreg_for_letters_ngrams.sag\")    \n",
    "    newdata_label_coder = LabelEncoder()\n",
    "    newdata_label_coder.fit(letter)\n",
    "    newdata_test = newdata_label_coder.transform(sm.predict(merge_tfidf()[1]))\n",
    "    newdata_train = newdata_label_coder.transform(letter)\n",
    "    \n",
    "    hot = OneHotEncoder()\n",
    "    hot_train_letter = hot.fit_transform(np.array(newdata_train).reshape(-1,1))\n",
    "    hot_test_letter = hot.transform(np.array(newdata_test).reshape(-1,1))    \n",
    "    \n",
    "    return sc.sparse.hstack((merge_tfidf()[0], hot_train_letter)),sc.sparse.hstack((merge_tfidf()[1], hot_test_letter)), hot_train_letter, hot_test_letter"
   ]
  },
  {
   "cell_type": "code",
   "execution_count": 9,
   "metadata": {
    "collapsed": true
   },
   "outputs": [],
   "source": [
    "def merge_w2v_letter():\n",
    "    \n",
    "    sm = joblib.load(\"logreg_for_letters_w2v.sag\")    \n",
    "    newdata_label_coder = LabelEncoder()\n",
    "    newdata_label_coder.fit(letter)\n",
    "    newdata_test = newdata_label_coder.transform(sm.predict(merge_w2v()[1]))\n",
    "    newdata_train = newdata_label_coder.transform(letter)\n",
    "    \n",
    "    hot = OneHotEncoder()\n",
    "    hot_train_letter = hot.fit_transform(np.array(newdata_train).reshape(-1,1))\n",
    "    hot_test_letter = hot.transform(np.array(newdata_test).reshape(-1,1))    \n",
    "    \n",
    "    return sc.sparse.hstack((merge_w2v()[0], hot_train_letter)),sc.sparse.hstack((merge_w2v()[1], hot_test_letter))"
   ]
  },
  {
   "cell_type": "code",
   "execution_count": null,
   "metadata": {
    "collapsed": true
   },
   "outputs": [],
   "source": []
  },
  {
   "cell_type": "code",
   "execution_count": null,
   "metadata": {
    "collapsed": true
   },
   "outputs": [
    {
     "name": "stderr",
     "output_type": "stream",
     "text": [
      "Process ForkPoolWorker-21:\n",
      "Process ForkPoolWorker-19:\n",
      "Process ForkPoolWorker-15:\n",
      "Process ForkPoolWorker-24:\n",
      "Process ForkPoolWorker-23:\n",
      "Process ForkPoolWorker-18:\n",
      "Process ForkPoolWorker-17:\n",
      "Process ForkPoolWorker-16:\n",
      "Process ForkPoolWorker-22:\n",
      "Process ForkPoolWorker-20:\n",
      "Traceback (most recent call last):\n",
      "Traceback (most recent call last):\n",
      "Traceback (most recent call last):\n",
      "Traceback (most recent call last):\n",
      "Traceback (most recent call last):\n",
      "Traceback (most recent call last):\n",
      "  File \"/root/anaconda3/lib/python3.6/multiprocessing/process.py\", line 258, in _bootstrap\n",
      "    self.run()\n",
      "  File \"/root/anaconda3/lib/python3.6/multiprocessing/process.py\", line 258, in _bootstrap\n",
      "    self.run()\n",
      "  File \"/root/anaconda3/lib/python3.6/multiprocessing/process.py\", line 258, in _bootstrap\n",
      "    self.run()\n",
      "Traceback (most recent call last):\n",
      "Traceback (most recent call last):\n",
      "Traceback (most recent call last):\n",
      "  File \"/root/anaconda3/lib/python3.6/multiprocessing/process.py\", line 258, in _bootstrap\n",
      "    self.run()\n",
      "  File \"/root/anaconda3/lib/python3.6/multiprocessing/process.py\", line 93, in run\n",
      "    self._target(*self._args, **self._kwargs)\n",
      "Traceback (most recent call last):\n",
      "  File \"/root/anaconda3/lib/python3.6/multiprocessing/process.py\", line 258, in _bootstrap\n",
      "    self.run()\n",
      "  File \"/root/anaconda3/lib/python3.6/multiprocessing/process.py\", line 93, in run\n",
      "    self._target(*self._args, **self._kwargs)\n",
      "  File \"/root/anaconda3/lib/python3.6/multiprocessing/process.py\", line 258, in _bootstrap\n",
      "    self.run()\n",
      "  File \"/root/anaconda3/lib/python3.6/multiprocessing/process.py\", line 93, in run\n",
      "    self._target(*self._args, **self._kwargs)\n",
      "  File \"/root/anaconda3/lib/python3.6/multiprocessing/process.py\", line 93, in run\n",
      "    self._target(*self._args, **self._kwargs)\n",
      "  File \"/root/anaconda3/lib/python3.6/multiprocessing/process.py\", line 258, in _bootstrap\n",
      "    self.run()\n",
      "  File \"/root/anaconda3/lib/python3.6/multiprocessing/process.py\", line 258, in _bootstrap\n",
      "    self.run()\n",
      "  File \"/root/anaconda3/lib/python3.6/multiprocessing/pool.py\", line 108, in worker\n",
      "    task = get()\n",
      "  File \"/root/anaconda3/lib/python3.6/multiprocessing/process.py\", line 93, in run\n",
      "    self._target(*self._args, **self._kwargs)\n",
      "  File \"/root/anaconda3/lib/python3.6/multiprocessing/process.py\", line 258, in _bootstrap\n",
      "    self.run()\n",
      "  File \"/root/anaconda3/lib/python3.6/multiprocessing/process.py\", line 93, in run\n",
      "    self._target(*self._args, **self._kwargs)\n",
      "  File \"/root/anaconda3/lib/python3.6/multiprocessing/pool.py\", line 108, in worker\n",
      "    task = get()\n",
      "  File \"/root/anaconda3/lib/python3.6/multiprocessing/pool.py\", line 108, in worker\n",
      "    task = get()\n",
      "  File \"/root/anaconda3/lib/python3.6/multiprocessing/pool.py\", line 108, in worker\n",
      "    task = get()\n",
      "  File \"/root/anaconda3/lib/python3.6/multiprocessing/process.py\", line 93, in run\n",
      "    self._target(*self._args, **self._kwargs)\n",
      "  File \"/root/anaconda3/lib/python3.6/site-packages/joblib/pool.py\", line 360, in get\n",
      "    racquire()\n",
      "  File \"/root/anaconda3/lib/python3.6/multiprocessing/process.py\", line 258, in _bootstrap\n",
      "    self.run()\n",
      "  File \"/root/anaconda3/lib/python3.6/multiprocessing/pool.py\", line 108, in worker\n",
      "    task = get()\n",
      "  File \"/root/anaconda3/lib/python3.6/multiprocessing/process.py\", line 93, in run\n",
      "    self._target(*self._args, **self._kwargs)\n",
      "  File \"/root/anaconda3/lib/python3.6/multiprocessing/process.py\", line 93, in run\n",
      "    self._target(*self._args, **self._kwargs)\n",
      "  File \"/root/anaconda3/lib/python3.6/multiprocessing/pool.py\", line 108, in worker\n",
      "    task = get()\n",
      "  File \"/root/anaconda3/lib/python3.6/site-packages/joblib/pool.py\", line 360, in get\n",
      "    racquire()\n",
      "  File \"/root/anaconda3/lib/python3.6/site-packages/joblib/pool.py\", line 360, in get\n",
      "    racquire()\n",
      "KeyboardInterrupt\n",
      "KeyboardInterrupt\n",
      "  File \"/root/anaconda3/lib/python3.6/multiprocessing/pool.py\", line 108, in worker\n",
      "    task = get()\n",
      "  File \"/root/anaconda3/lib/python3.6/multiprocessing/process.py\", line 93, in run\n",
      "    self._target(*self._args, **self._kwargs)\n",
      "  File \"/root/anaconda3/lib/python3.6/site-packages/joblib/pool.py\", line 360, in get\n",
      "    racquire()\n",
      "KeyboardInterrupt\n",
      "  File \"/root/anaconda3/lib/python3.6/multiprocessing/pool.py\", line 108, in worker\n",
      "    task = get()\n",
      "  File \"/root/anaconda3/lib/python3.6/multiprocessing/pool.py\", line 108, in worker\n",
      "    task = get()\n",
      "  File \"/root/anaconda3/lib/python3.6/site-packages/joblib/pool.py\", line 360, in get\n",
      "    racquire()\n",
      "  File \"/root/anaconda3/lib/python3.6/site-packages/joblib/pool.py\", line 360, in get\n",
      "    racquire()\n",
      "  File \"/root/anaconda3/lib/python3.6/multiprocessing/pool.py\", line 108, in worker\n",
      "    task = get()\n",
      "KeyboardInterrupt\n",
      "KeyboardInterrupt\n",
      "  File \"/root/anaconda3/lib/python3.6/site-packages/joblib/pool.py\", line 360, in get\n",
      "    racquire()\n",
      "  File \"/root/anaconda3/lib/python3.6/site-packages/joblib/pool.py\", line 360, in get\n",
      "    racquire()\n",
      "KeyboardInterrupt\n",
      "Process ForkPoolWorker-14:\n",
      "  File \"/root/anaconda3/lib/python3.6/site-packages/joblib/pool.py\", line 360, in get\n",
      "    racquire()\n",
      "KeyboardInterrupt\n",
      "KeyboardInterrupt\n",
      "  File \"/root/anaconda3/lib/python3.6/site-packages/joblib/pool.py\", line 360, in get\n",
      "    racquire()\n",
      "KeyboardInterrupt\n",
      "KeyboardInterrupt\n",
      "Traceback (most recent call last):\n",
      "  File \"/root/anaconda3/lib/python3.6/multiprocessing/process.py\", line 258, in _bootstrap\n",
      "    self.run()\n",
      "  File \"/root/anaconda3/lib/python3.6/multiprocessing/process.py\", line 93, in run\n",
      "    self._target(*self._args, **self._kwargs)\n",
      "  File \"/root/anaconda3/lib/python3.6/multiprocessing/pool.py\", line 108, in worker\n",
      "    task = get()\n",
      "  File \"/root/anaconda3/lib/python3.6/site-packages/joblib/pool.py\", line 360, in get\n",
      "    racquire()\n",
      "KeyboardInterrupt\n",
      "Process ForkPoolWorker-13:\n",
      "Traceback (most recent call last):\n",
      "  File \"/root/anaconda3/lib/python3.6/multiprocessing/process.py\", line 258, in _bootstrap\n",
      "    self.run()\n",
      "  File \"/root/anaconda3/lib/python3.6/multiprocessing/process.py\", line 93, in run\n",
      "    self._target(*self._args, **self._kwargs)\n",
      "  File \"/root/anaconda3/lib/python3.6/multiprocessing/pool.py\", line 108, in worker\n",
      "    task = get()\n",
      "  File \"/root/anaconda3/lib/python3.6/site-packages/joblib/pool.py\", line 362, in get\n",
      "    return recv()\n",
      "  File \"/root/anaconda3/lib/python3.6/multiprocessing/connection.py\", line 250, in recv\n",
      "    buf = self._recv_bytes()\n",
      "  File \"/root/anaconda3/lib/python3.6/multiprocessing/connection.py\", line 407, in _recv_bytes\n",
      "    buf = self._recv(4)\n",
      "  File \"/root/anaconda3/lib/python3.6/multiprocessing/connection.py\", line 379, in _recv\n",
      "    chunk = read(handle, remaining)\n",
      "KeyboardInterrupt\n"
     ]
    }
   ],
   "source": [
    "def svm_stacker(C):\n",
    "    cv = StratifiedKFold(n_splits=4, random_state=0)\n",
    "    sm = LinearSVC(max_iter = 500,random_state=0, C=C)\n",
    "    return cross_val_predict(sm, merge_tfidf_letter()[0], targetcoded, cv=cv, n_jobs=2)\n",
    "a = Parallel(n_jobs=24)(delayed(svm_stacker)(i) for i in [0.05, 0.1, 0.25, 0.5, 0.8, 1, 1.2, 1.5, 1.8, 2, 5, 10])\n",
    "svm_for_stack = np.array(a)\n",
    "np.save(\"./svm_for_stack\", svm_for_stack)"
   ]
  },
  {
   "cell_type": "code",
   "execution_count": null,
   "metadata": {
    "collapsed": true
   },
   "outputs": [],
   "source": [
    "def svm_stacker_predicter(C):\n",
    "    sm = LinearSVC(max_iter = 500,random_state=0, C=C)\n",
    "    sm.fit(merge_tfidf_letter()[0], targetcoded)\n",
    "    return sm.predict(merge_tfidf_letter()[1])\n",
    "    \n",
    "a = Parallel(n_jobs=24)(delayed(svm_stacker_predicter)(i) for i in [0.05, 0.1, 0.25, 0.5, 0.8, 1, 1.2, 1.5, 1.8, 2, 5, 10])\n",
    "svm_for_stack_test = np.array(a)\n",
    "np.save(\"./svm_for_stack_test\", svm_for_stack_test)"
   ]
  },
  {
   "cell_type": "code",
   "execution_count": null,
   "metadata": {
    "collapsed": true
   },
   "outputs": [],
   "source": []
  },
  {
   "cell_type": "code",
   "execution_count": 34,
   "metadata": {
    "collapsed": true
   },
   "outputs": [],
   "source": [
    "def knn_stacker(C):\n",
    "    cv = StratifiedKFold(n_splits=4, random_state=0)\n",
    "    sm = KNeighborsClassifier(n_neighbors=C,  n_jobs=2)\n",
    "    return cross_val_predict(sm, merge_tfidf_letter()[0], targetcoded, cv=cv, n_jobs = 4)\n",
    "a = Parallel(n_jobs=24)(delayed(knn_stacker)(i) for i in [2, 5, 10])\n",
    "knn_for_stack = np.array(a)\n",
    "np.save(\"./knn_for_stack\", knn_for_stack)"
   ]
  },
  {
   "cell_type": "code",
   "execution_count": 15,
   "metadata": {},
   "outputs": [
    {
     "name": "stderr",
     "output_type": "stream",
     "text": [
      "/root/anaconda3/lib/python3.6/site-packages/sklearn/externals/joblib/parallel.py:547: UserWarning: Multiprocessing-backed parallel loops cannot be nested, setting n_jobs=1\n",
      "  **self._backend_args)\n",
      "/root/anaconda3/lib/python3.6/site-packages/sklearn/externals/joblib/parallel.py:547: UserWarning: Multiprocessing-backed parallel loops cannot be nested, setting n_jobs=1\n",
      "  **self._backend_args)\n",
      "/root/anaconda3/lib/python3.6/site-packages/sklearn/externals/joblib/parallel.py:547: UserWarning: Multiprocessing-backed parallel loops cannot be nested, setting n_jobs=1\n",
      "  **self._backend_args)\n"
     ]
    }
   ],
   "source": [
    "def knn_stacker_predicter(C):\n",
    "    sm = KNeighborsClassifier(n_neighbors=C,  n_jobs=2)\n",
    "    sm.fit(merge_tfidf_letter()[0], targetcoded)\n",
    "    return sm.predict(merge_tfidf_letter()[1])\n",
    "a = Parallel(n_jobs=24)(delayed(knn_stacker_predicter)(i) for i in [2, 5, 10])\n",
    "knn_for_stack = np.array(a)\n",
    "np.save(\"./knn_for_stack_test\", knn_for_stack)"
   ]
  },
  {
   "cell_type": "code",
   "execution_count": null,
   "metadata": {
    "collapsed": true
   },
   "outputs": [],
   "source": []
  },
  {
   "cell_type": "code",
   "execution_count": 8,
   "metadata": {
    "collapsed": true
   },
   "outputs": [
    {
     "name": "stderr",
     "output_type": "stream",
     "text": [
      "/root/anaconda3/lib/python3.6/site-packages/sklearn/model_selection/_split.py:605: Warning: The least populated class in y has only 1 members, which is too few. The minimum number of members in any class cannot be less than n_splits=4.\n",
      "  % (min_groups, self.n_splits)), Warning)\n"
     ]
    }
   ],
   "source": [
    "cv = StratifiedKFold(n_splits=4, random_state=0)\n",
    "rf = RandomForestClassifier(n_estimators=24, n_jobs = -1, random_state=0)\n",
    "tf_rf = cross_val_predict(rf, merge_tfidf_letter()[0], targetcoded, cv=cv, n_jobs = 4)\n",
    "rf_for_stack = np.array(tf_rf)\n",
    "np.save(\"./rf_tfidf_for_stack\", rf_for_stack)"
   ]
  },
  {
   "cell_type": "code",
   "execution_count": 16,
   "metadata": {
    "collapsed": true
   },
   "outputs": [],
   "source": [
    "rf = RandomForestClassifier(n_estimators=24, n_jobs = -1, random_state=0)\n",
    "rf.fit(merge_tfidf_letter()[0], targetcoded)\n",
    "tf_rf = rf.predict(merge_tfidf_letter()[1])\n",
    "rf_for_stack = np.array(tf_rf)\n",
    "np.save(\"./rf_tfidf_for_stack_test\", rf_for_stack)"
   ]
  },
  {
   "cell_type": "code",
   "execution_count": null,
   "metadata": {
    "collapsed": true
   },
   "outputs": [],
   "source": []
  },
  {
   "cell_type": "code",
   "execution_count": 7,
   "metadata": {
    "collapsed": true
   },
   "outputs": [
    {
     "name": "stderr",
     "output_type": "stream",
     "text": [
      "/root/anaconda3/lib/python3.6/site-packages/sklearn/model_selection/_split.py:605: Warning: The least populated class in y has only 1 members, which is too few. The minimum number of members in any class cannot be less than n_splits=4.\n",
      "  % (min_groups, self.n_splits)), Warning)\n"
     ]
    },
    {
     "name": "stdout",
     "output_type": "stream",
     "text": [
      "CPU times: user 26.8 s, sys: 1.02 s, total: 27.8 s\n",
      "Wall time: 2min 48s\n"
     ]
    }
   ],
   "source": [
    "cv = StratifiedKFold(n_splits=4, random_state=0)\n",
    "rf = RandomForestClassifier(n_estimators=24, n_jobs = -1, random_state=0)\n",
    "w2v_rf = cross_val_predict(rf, sc.sparse.hstack((merge_w2v()[0],sc.sparse.coo_matrix(merge_tfidf_letter()[2]))), targetcoded, cv=cv, n_jobs = 4)\n",
    "rf_w2v_for_stack = np.array(w2v_rf)\n",
    "np.save(\"./rf_w2v_for_stack\", rf_w2v_for_stack)"
   ]
  },
  {
   "cell_type": "code",
   "execution_count": 8,
   "metadata": {
    "collapsed": true
   },
   "outputs": [],
   "source": [
    "rf = RandomForestClassifier(n_estimators=24, n_jobs = -1, random_state=0)\n",
    "rf.fit(sc.sparse.hstack((merge_w2v()[0],sc.sparse.coo_matrix(merge_tfidf_letter()[2]))), targetcoded)\n",
    "rf_w2v_for_stack = np.array(rf.predict(sc.sparse.hstack((merge_w2v()[1],sc.sparse.coo_matrix(merge_tfidf_letter()[3])))))\n",
    "np.save(\"./rf_w2v_for_stack_test\", rf_w2v_for_stack)"
   ]
  },
  {
   "cell_type": "code",
   "execution_count": null,
   "metadata": {
    "collapsed": true
   },
   "outputs": [],
   "source": []
  },
  {
   "cell_type": "code",
   "execution_count": 9,
   "metadata": {
    "collapsed": true
   },
   "outputs": [
    {
     "name": "stderr",
     "output_type": "stream",
     "text": [
      "/root/anaconda3/lib/python3.6/site-packages/sklearn/model_selection/_split.py:605: Warning: The least populated class in y has only 1 members, which is too few. The minimum number of members in any class cannot be less than n_splits=4.\n",
      "  % (min_groups, self.n_splits)), Warning)\n"
     ]
    },
    {
     "name": "stdout",
     "output_type": "stream",
     "text": [
      "CPU times: user 30.5 s, sys: 1.39 s, total: 31.9 s\n",
      "Wall time: 2min 10s\n"
     ]
    }
   ],
   "source": [
    "cv = StratifiedKFold(n_splits=4, random_state=0)\n",
    "rf = RandomForestClassifier(n_estimators=24, n_jobs = -1, random_state=0)\n",
    "w2v_tf_rf = cross_val_predict(rf, sc.sparse.hstack((merge_w2v()[0],sc.sparse.coo_matrix(merge_tfidf_letter()[0]))), targetcoded, cv=cv, n_jobs = 4)\n",
    "rf_w2v_tfidf_for_stack = np.array(w2v_tf_rf)\n",
    "np.save(\"./rf_w2v_tfidf_for_stack\", rf_w2v_tfidf_for_stack)"
   ]
  },
  {
   "cell_type": "code",
   "execution_count": 7,
   "metadata": {
    "collapsed": true
   },
   "outputs": [],
   "source": [
    "rf = RandomForestClassifier(n_estimators=24, n_jobs = -1, random_state=0)\n",
    "rf.fit(sc.sparse.hstack((merge_w2v()[0],sc.sparse.coo_matrix(merge_tfidf_letter()[0]))), targetcoded)\n",
    "rf_w2v_tfidf_for_stack = np.array(rf.predict(sc.sparse.hstack((merge_w2v()[1],sc.sparse.coo_matrix(merge_tfidf_letter()[1])))))\n",
    "np.save(\"./rf_w2v_tfidf_for_stack_test\", rf_w2v_tfidf_for_stack)"
   ]
  },
  {
   "cell_type": "code",
   "execution_count": null,
   "metadata": {
    "collapsed": true
   },
   "outputs": [],
   "source": []
  },
  {
   "cell_type": "code",
   "execution_count": null,
   "metadata": {
    "collapsed": true
   },
   "outputs": [],
   "source": []
  },
  {
   "cell_type": "code",
   "execution_count": 4,
   "metadata": {
    "collapsed": true
   },
   "outputs": [],
   "source": [
    "train=np.vstack((np.load(\"./knn_for_stack.npy\"),\n",
    "np.load(\"./rf_tfidf_for_stack.npy\"),\n",
    "np.load(\"./rf_w2v_for_stack.npy\"),\n",
    "np.load(\"./rf_w2v_tfidf_for_stack.npy\"),\n",
    "np.load(\"./svm_for_stack.npy\")))\n",
    "test=np.vstack((np.load(\"./knn_for_stack_test.npy\"),\n",
    "np.load(\"./rf_tfidf_for_stack_test.npy\"),\n",
    "np.load(\"./rf_w2v_for_stack_test.npy\"),\n",
    "np.load(\"./rf_w2v_tfidf_for_stack_test.npy\"),\n",
    "np.load(\"./svm_for_stack_test.npy\")))"
   ]
  },
  {
   "cell_type": "code",
   "execution_count": null,
   "metadata": {
    "collapsed": true,
    "scrolled": true
   },
   "outputs": [],
   "source": [
    "%%time \n",
    "svc = LinearSVC(max_iter = 15)#tfidf 1 2\n",
    "svc.fit((merge_tfidf_letter()[0]),target)"
   ]
  },
  {
   "cell_type": "code",
   "execution_count": null,
   "metadata": {
    "collapsed": true
   },
   "outputs": [],
   "source": []
  },
  {
   "cell_type": "code",
   "execution_count": null,
   "metadata": {
    "collapsed": true,
    "scrolled": true
   },
   "outputs": [],
   "source": [
    "joblib.dump(bg ,\"linear_svc_secondlayer.sag\")"
   ]
  },
  {
   "cell_type": "code",
   "execution_count": null,
   "metadata": {
    "collapsed": true
   },
   "outputs": [],
   "source": [
    "print(\"ok\")"
   ]
  },
  {
   "cell_type": "code",
   "execution_count": null,
   "metadata": {
    "collapsed": true
   },
   "outputs": [],
   "source": [
    "print(\"ok\")"
   ]
  },
  {
   "cell_type": "code",
   "execution_count": 75,
   "metadata": {
    "collapsed": true
   },
   "outputs": [],
   "source": [
    "ans = svc.predict(merge_tfidf_letter()[1])"
   ]
  },
  {
   "cell_type": "code",
   "execution_count": 7,
   "metadata": {},
   "outputs": [
    {
     "data": {
      "text/plain": [
       "array([ 687,  180,  861, ..., 2219, 2261, 2219])"
      ]
     },
     "execution_count": 7,
     "metadata": {},
     "output_type": "execute_result"
    }
   ],
   "source": [
    "train[0]"
   ]
  },
  {
   "cell_type": "code",
   "execution_count": 31,
   "metadata": {
    "collapsed": true
   },
   "outputs": [],
   "source": [
    "ans = lc.inverse_transform(test[8])"
   ]
  },
  {
   "cell_type": "code",
   "execution_count": 76,
   "metadata": {
    "collapsed": true
   },
   "outputs": [],
   "source": [
    "sampl[\"Id_Записи,Код_диагноза\"]=ans"
   ]
  },
  {
   "cell_type": "code",
   "execution_count": 73,
   "metadata": {
    "collapsed": true
   },
   "outputs": [],
   "source": [
    "sampl.to_csv(path_or_buf=\"svm_maxiter\")"
   ]
  },
  {
   "cell_type": "code",
   "execution_count": 23,
   "metadata": {
    "scrolled": false
   },
   "outputs": [
    {
     "name": "stdout",
     "output_type": "stream",
     "text": [
      "CPU times: user 35min 12s, sys: 7.61 s, total: 35min 19s\n",
      "Wall time: 7min 5s\n"
     ]
    }
   ],
   "source": [
    "%%time\n",
    "#6.18\n",
    "model = Word2Vec(sentences, size=300, window=4, min_count=5, workers=24, iter=500)\n",
    "model.save(\"w2v_complaining.gensim\")"
   ]
  },
  {
   "cell_type": "code",
   "execution_count": 10,
   "metadata": {},
   "outputs": [
    {
     "name": "stdout",
     "output_type": "stream",
     "text": [
      "CPU times: user 16min 7s, sys: 13.4 s, total: 16min 20s\n",
      "Wall time: 16min 51s\n"
     ]
    }
   ],
   "source": [
    "%%time\n",
    "sm = LogisticRegression(max_iter = 20,random_state=0)\n",
    "sm.fit(merge_tfidf()[0],letter)\n",
    "joblib.dump(sm,\"logreg_for_letters_ngrams.sag\")"
   ]
  },
  {
   "cell_type": "code",
   "execution_count": null,
   "metadata": {
    "collapsed": true
   },
   "outputs": [],
   "source": []
  }
 ],
 "metadata": {
  "kernelspec": {
   "display_name": "Python 3",
   "language": "python",
   "name": "python3"
  },
  "language_info": {
   "codemirror_mode": {
    "name": "ipython",
    "version": 3
   },
   "file_extension": ".py",
   "mimetype": "text/x-python",
   "name": "python",
   "nbconvert_exporter": "python",
   "pygments_lexer": "ipython3",
   "version": "3.6.2"
  }
 },
 "nbformat": 4,
 "nbformat_minor": 2
}
